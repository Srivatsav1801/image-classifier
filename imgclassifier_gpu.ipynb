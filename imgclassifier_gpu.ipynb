{
  "nbformat": 4,
  "nbformat_minor": 0,
  "metadata": {
    "colab": {
      "provenance": []
    },
    "kernelspec": {
      "name": "python3",
      "display_name": "Python 3"
    },
    "language_info": {
      "name": "python"
    },
    "accelerator": "GPU"
  },
  "cells": [
    {
      "cell_type": "code",
      "execution_count": 1,
      "metadata": {
        "id": "o20P5GPF1KFp"
      },
      "outputs": [],
      "source": [
        "import torch\n",
        "import torch.nn as nn\n",
        "import torch.nn.functional as F\n",
        "import torch.optim as optim\n",
        "from torchvision import datasets, transforms\n",
        "from torch.utils.data import DataLoader\n",
        "import os\n",
        "from PIL import Image\n",
        "import time"
      ]
    },
    {
      "cell_type": "code",
      "source": [
        "from google.colab import drive\n",
        "drive.mount('/content/drive')"
      ],
      "metadata": {
        "colab": {
          "base_uri": "https://localhost:8080/"
        },
        "id": "LnFXayc17pbl",
        "outputId": "1cb0d5fc-0def-45df-8b35-d13ee98159b7"
      },
      "execution_count": 2,
      "outputs": [
        {
          "output_type": "stream",
          "name": "stdout",
          "text": [
            "Mounted at /content/drive\n"
          ]
        }
      ]
    },
    {
      "cell_type": "code",
      "source": [
        "path = \"/content/drive/MyDrive/Cats and Dogs/Dataset\"\n",
        "start = time.perf_counter()"
      ],
      "metadata": {
        "id": "of9zD2GG3ijf"
      },
      "execution_count": 3,
      "outputs": []
    },
    {
      "cell_type": "code",
      "source": [
        "from torchvision.transforms.transforms import Normalize\n",
        "# pre = process data\n",
        "transform = transforms.Compose([transforms.Resize((32,32)),\n",
        "            transforms.ToTensor(),\n",
        "            transforms.transforms.Normalize([0.5],[0.5])\n",
        "])\n",
        "dataset = datasets.ImageFolder('/content/drive/MyDrive/Cats and Dogs/Dataset', transform = transform)\n",
        "dataset_len = len(dataset)\n",
        "train_len, test_len = dataset_len-6000, 6000\n",
        "train_set, test_set = torch.utils.data.random_split(dataset, [train_len, test_len])\n",
        "batch_size = 200\n",
        "train_set = DataLoader(dataset = train_set, shuffle=True, batch_size = batch_size)\n",
        "test_set = DataLoader (dataset = test_set, shuffle=True, batch_size = batch_size)\n",
        "\n",
        "device = torch.device('cuda' if torch.cuda.is_available() else 'cpu')\n",
        "print(train_len,test_len)"
      ],
      "metadata": {
        "colab": {
          "base_uri": "https://localhost:8080/"
        },
        "id": "EYekSeYi1ZLR",
        "outputId": "2f35e067-45e0-4585-ff2d-05c40455dd64"
      },
      "execution_count": 4,
      "outputs": [
        {
          "output_type": "stream",
          "name": "stdout",
          "text": [
            "2025 6000\n"
          ]
        }
      ]
    },
    {
      "cell_type": "code",
      "source": [
        "class Model(nn.Module):\n",
        "    def __init__(self):\n",
        "        super().__init__()\n",
        "        self.conv1 = nn.Conv2d(3, 6, 5)\n",
        "        self.pool = nn.MaxPool2d(2, 2)\n",
        "        self.conv2 = nn.Conv2d(6, 16, 5)\n",
        "        self.fc1 = nn.Linear(16 * 5 * 5, 120)\n",
        "        self.fc2 = nn.Linear(120, 84)\n",
        "        self.fc3 = nn.Linear(84, 10)\n",
        "\n",
        "    def forward(self, x):\n",
        "        x = self.pool(F.relu(self.conv1(x)))\n",
        "        x = self.pool(F.relu(self.conv2(x)))\n",
        "        x = torch.flatten(x, 1)\n",
        "        x = F.relu(self.fc1(x))\n",
        "        x = F.relu(self.fc2(x))\n",
        "        x = self.fc3(x)\n",
        "        return x\n",
        "\n",
        "\n",
        "net = Model().to(device)"
      ],
      "metadata": {
        "id": "pQxcZ_vWDp9v"
      },
      "execution_count": 5,
      "outputs": []
    },
    {
      "cell_type": "code",
      "source": [
        "criterion = nn.CrossEntropyLoss()\n",
        "optimizer = torch.optim.Adam(net.parameters(),lr = 0.001, weight_decay = 1e-5)\n"
      ],
      "metadata": {
        "id": "hlmLtTc5gzCM"
      },
      "execution_count": 6,
      "outputs": []
    },
    {
      "cell_type": "code",
      "source": [
        "net.train()\n",
        "for epoch in range(50):\n",
        "  total_correct = 0.0\n",
        "  running_loss = 0.0\n",
        "  for i, (inputs, labels) in enumerate(train_set):\n",
        "     inputs, labels = inputs.to(device), labels.to(device)\n",
        "     output = net(inputs)\n",
        "     output_idx = torch.argmax(output, dim=1)\n",
        "     total_correct += (labels == output_idx).sum().item()\n",
        "     optimizer.zero_grad()\n",
        "     loss = criterion(output, labels)\n",
        "     loss.backward()\n",
        "     optimizer.step()\n",
        "  print(f'Epoch: {epoch+1} Loss: {loss.item()} accuracy = {100*(total_correct/train_len)}%')\n",
        "\n",
        "print('Finished training')\n",
        "end = time.perf_counter()\n",
        "time_train = end - start\n",
        "print(f\"time taken for training running in GPU {time_train:.4f} sec\")\n"
      ],
      "metadata": {
        "colab": {
          "base_uri": "https://localhost:8080/"
        },
        "id": "5C6qWFV_h-Bb",
        "outputId": "c3c556e7-3b7b-480b-ef98-e49a4bef8442"
      },
      "execution_count": 7,
      "outputs": [
        {
          "output_type": "stream",
          "name": "stdout",
          "text": [
            "Epoch: 1 Loss: 1.357487440109253 accuracy = 47.358024691358025%\n",
            "Epoch: 2 Loss: 0.7866372466087341 accuracy = 50.123456790123456%\n",
            "Epoch: 3 Loss: 0.700207531452179 accuracy = 50.864197530864196%\n",
            "Epoch: 4 Loss: 0.6849862933158875 accuracy = 51.65432098765432%\n",
            "Epoch: 5 Loss: 0.6811452507972717 accuracy = 53.629629629629626%\n",
            "Epoch: 6 Loss: 0.6980013251304626 accuracy = 51.456790123456784%\n",
            "Epoch: 7 Loss: 0.6770684719085693 accuracy = 52.54320987654321%\n",
            "Epoch: 8 Loss: 0.6754978895187378 accuracy = 54.32098765432099%\n",
            "Epoch: 9 Loss: 0.7186625003814697 accuracy = 55.30864197530864%\n",
            "Epoch: 10 Loss: 0.6265102624893188 accuracy = 56.395061728395056%\n",
            "Epoch: 11 Loss: 0.6517246961593628 accuracy = 54.666666666666664%\n",
            "Epoch: 12 Loss: 0.6666306257247925 accuracy = 57.18518518518518%\n",
            "Epoch: 13 Loss: 0.72466641664505 accuracy = 58.51851851851851%\n",
            "Epoch: 14 Loss: 0.6779674291610718 accuracy = 54.91358024691358%\n",
            "Epoch: 15 Loss: 0.7221893072128296 accuracy = 52.79012345679013%\n",
            "Epoch: 16 Loss: 0.6686246395111084 accuracy = 54.81481481481482%\n",
            "Epoch: 17 Loss: 0.6561892032623291 accuracy = 58.864197530864196%\n",
            "Epoch: 18 Loss: 0.6097185015678406 accuracy = 58.71604938271605%\n",
            "Epoch: 19 Loss: 0.6100408434867859 accuracy = 62.02469135802468%\n",
            "Epoch: 20 Loss: 0.6028462052345276 accuracy = 63.358024691358025%\n",
            "Epoch: 21 Loss: 0.6083023548126221 accuracy = 62.5679012345679%\n",
            "Epoch: 22 Loss: 0.7602476477622986 accuracy = 61.08641975308642%\n",
            "Epoch: 23 Loss: 0.5629610419273376 accuracy = 62.5679012345679%\n",
            "Epoch: 24 Loss: 0.6433216333389282 accuracy = 63.358024691358025%\n",
            "Epoch: 25 Loss: 0.6067209839820862 accuracy = 66.17283950617285%\n",
            "Epoch: 26 Loss: 0.6529881954193115 accuracy = 66.8641975308642%\n",
            "Epoch: 27 Loss: 0.5673624277114868 accuracy = 67.30864197530865%\n",
            "Epoch: 28 Loss: 0.6860601305961609 accuracy = 67.75308641975309%\n",
            "Epoch: 29 Loss: 0.6521931290626526 accuracy = 67.01234567901234%\n",
            "Epoch: 30 Loss: 0.5533532500267029 accuracy = 67.11111111111111%\n",
            "Epoch: 31 Loss: 0.6369825601577759 accuracy = 68.19753086419753%\n",
            "Epoch: 32 Loss: 0.6008126735687256 accuracy = 68.64197530864197%\n",
            "Epoch: 33 Loss: 0.61058509349823 accuracy = 69.77777777777779%\n",
            "Epoch: 34 Loss: 0.4340764880180359 accuracy = 69.4320987654321%\n",
            "Epoch: 35 Loss: 0.5286726951599121 accuracy = 69.53086419753086%\n",
            "Epoch: 36 Loss: 0.46568670868873596 accuracy = 69.33333333333334%\n",
            "Epoch: 37 Loss: 0.5759606957435608 accuracy = 70.41975308641976%\n",
            "Epoch: 38 Loss: 0.6642279624938965 accuracy = 70.91358024691358%\n",
            "Epoch: 39 Loss: 0.5274345278739929 accuracy = 71.70370370370371%\n",
            "Epoch: 40 Loss: 0.565490186214447 accuracy = 72.14814814814815%\n",
            "Epoch: 41 Loss: 0.549156904220581 accuracy = 71.65432098765432%\n",
            "Epoch: 42 Loss: 0.5040531158447266 accuracy = 72.74074074074073%\n",
            "Epoch: 43 Loss: 0.5585260987281799 accuracy = 71.60493827160494%\n",
            "Epoch: 44 Loss: 0.4495296776294708 accuracy = 72.98765432098764%\n",
            "Epoch: 45 Loss: 0.5189965963363647 accuracy = 73.38271604938271%\n",
            "Epoch: 46 Loss: 0.39129698276519775 accuracy = 74.46913580246914%\n",
            "Epoch: 47 Loss: 0.5543810129165649 accuracy = 74.66666666666667%\n",
            "Epoch: 48 Loss: 0.6098874807357788 accuracy = 75.06172839506173%\n",
            "Epoch: 49 Loss: 0.36287224292755127 accuracy = 75.70370370370371%\n",
            "Epoch: 50 Loss: 0.5254896879196167 accuracy = 74.66666666666667%\n",
            "Finished training\n",
            "time taken for training running in GPU 1450.0291 sec\n"
          ]
        }
      ]
    },
    {
      "cell_type": "code",
      "source": [
        "s = time.perf_counter()\n",
        "with torch.no_grad():\n",
        "  total_loss = 0.0\n",
        "  total_correct = 0.0\n",
        "  for inputs, labels in test_set:\n",
        "    labels = labels.to(device)\n",
        "    outputs = net(inputs.to(device))\n",
        "    loss = criterion(outputs, labels)\n",
        "    output_idx = torch.argmax(outputs, dim=1)\n",
        "    total_correct += sum(labels==output_idx)\n",
        "  print(f'Accuracy : {100*(total_correct/test_len)} Loss: {loss.item()}')\n",
        "  e = time.perf_counter()\n",
        "time_test = e - s\n",
        "print(f\"time taken for test set running in GPU {time_test:.4f} sec\")\n"
      ],
      "metadata": {
        "id": "xyuW0Az5FGTK"
      },
      "execution_count": null,
      "outputs": []
    },
    {
      "cell_type": "code",
      "source": [
        "!nvidia-smi"
      ],
      "metadata": {
        "id": "XNbgVuGlJt9j",
        "colab": {
          "base_uri": "https://localhost:8080/"
        },
        "outputId": "5bb8ccd0-ba12-4b2a-a882-ccedb4e00662"
      },
      "execution_count": null,
      "outputs": [
        {
          "output_type": "stream",
          "name": "stdout",
          "text": [
            "Thu Oct 20 11:09:54 2022       \n",
            "+-----------------------------------------------------------------------------+\n",
            "| NVIDIA-SMI 460.32.03    Driver Version: 460.32.03    CUDA Version: 11.2     |\n",
            "|-------------------------------+----------------------+----------------------+\n",
            "| GPU  Name        Persistence-M| Bus-Id        Disp.A | Volatile Uncorr. ECC |\n",
            "| Fan  Temp  Perf  Pwr:Usage/Cap|         Memory-Usage | GPU-Util  Compute M. |\n",
            "|                               |                      |               MIG M. |\n",
            "|===============================+======================+======================|\n",
            "|   0  Tesla T4            Off  | 00000000:00:04.0 Off |                    0 |\n",
            "| N/A   46C    P0    25W /  70W |   1158MiB / 15109MiB |      0%      Default |\n",
            "|                               |                      |                  N/A |\n",
            "+-------------------------------+----------------------+----------------------+\n",
            "                                                                               \n",
            "+-----------------------------------------------------------------------------+\n",
            "| Processes:                                                                  |\n",
            "|  GPU   GI   CI        PID   Type   Process name                  GPU Memory |\n",
            "|        ID   ID                                                   Usage      |\n",
            "|=============================================================================|\n",
            "+-----------------------------------------------------------------------------+\n"
          ]
        }
      ]
    },
    {
      "cell_type": "code",
      "source": [],
      "metadata": {
        "id": "4kZR6H7Sm2UN"
      },
      "execution_count": null,
      "outputs": []
    }
  ]
}